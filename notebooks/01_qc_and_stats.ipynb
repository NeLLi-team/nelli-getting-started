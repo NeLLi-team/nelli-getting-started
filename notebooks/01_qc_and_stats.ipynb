{
 "cells": [
  {
   "cell_type": "markdown",
   "metadata": {},
   "source": [
    "# QC and Read Statistics\n",
    "Run this notebook inside `uv` or `pixi` to explore the mock reads generated with BBTools."
   ]
  }
 ],
 "metadata": {
  "kernelspec": {
   "display_name": "Python 3",
   "language": "python",
   "name": "python3"
  },
  "language_info": {
   "name": "python",
   "version": "3.11"
  }
 },
 "nbformat": 4,
 "nbformat_minor": 5
}
